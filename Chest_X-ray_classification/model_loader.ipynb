{
 "cells": [
  {
   "cell_type": "code",
   "execution_count": 1,
   "metadata": {},
   "outputs": [
    {
     "data": {
      "text/plain": [
       "device(type='cuda', index=0)"
      ]
     },
     "execution_count": 1,
     "metadata": {},
     "output_type": "execute_result"
    }
   ],
   "source": [
    "import numpy as np \n",
    "import pandas as pd \n",
    "import matplotlib.pyplot as plt\n",
    "from matplotlib.image import imread\n",
    "import seaborn as sns\n",
    "import random\n",
    "import cv2\n",
    "import copy\n",
    "import os\n",
    "from sklearn.model_selection import train_test_split\n",
    "import time\n",
    "\n",
    "import torch\n",
    "import torch.nn as nn\n",
    "import torch.nn.functional as F\n",
    "import torchvision\n",
    "import torchvision.models as models\n",
    "from torchvision.datasets import ImageFolder\n",
    "from torchvision.utils import make_grid\n",
    "import torchvision.transforms as transform\n",
    "from torch.utils.data import Dataset, DataLoader, ConcatDataset\n",
    "from PIL import Image\n",
    "\n",
    "from mlxtend.plotting import plot_confusion_matrix\n",
    "from sklearn.metrics import confusion_matrix\n",
    " \n",
    "device = torch.device('cuda:0' if torch.cuda.is_available() else 'cpu')\n",
    "device"
   ]
  },
  {
   "cell_type": "code",
   "execution_count": 2,
   "metadata": {},
   "outputs": [
    {
     "data": {
      "image/png": "[encoded data removed]",
      "text/plain": [
       "<Figure size 640x480 with 1 Axes>"
      ]
     },
     "metadata": {},
     "output_type": "display_data"
    }
   ],
   "source": [
    "path = 'Chest X-Ray'\n",
    "train_samplesize = pd.DataFrame.from_dict(\n",
    "    {'Normal': [len([os.path.join(path+'/train/NORMAL', filename) \n",
    "                     for filename in os.listdir(path+'/train/NORMAL')])], \n",
    "     'Pneumonia': [len([os.path.join(path+'/train/PNEUMONIA', filename) \n",
    "                        for filename in os.listdir(path+'/train/PNEUMONIA')])]})\n",
    "\n",
    "\n",
    "sns.barplot(data=train_samplesize).set_title('Training Set Data Inbalance', fontsize=20)\n",
    "plt.show()"
   ]
  },
  {
   "cell_type": "code",
   "execution_count": 3,
   "metadata": {},
   "outputs": [],
   "source": [
    "\n",
    "transformer = {\n",
    "    'dataset1': transform.Compose([transform.Resize(255),\n",
    "                                            transform.CenterCrop(224),\n",
    "                                            transform.RandomHorizontalFlip(),\n",
    "                                            transform.RandomRotation(10),\n",
    "                                            transform.RandomGrayscale(),\n",
    "                                            transform.RandomAffine(translate=(0.05,0.05), degrees=0),\n",
    "                                            transform.ToTensor()\n",
    "                                           ]),\n",
    "    \n",
    "    'dataset2' : transform.Compose([transform.Resize(255),\n",
    "                                            transform.CenterCrop(224),\n",
    "                                            transform.RandomHorizontalFlip(p=1),\n",
    "                                            transform.RandomGrayscale(),\n",
    "                                            transform.RandomAffine(translate=(0.1,0.05), degrees=10),\n",
    "                                            transform.ToTensor()\n",
    "                                    \n",
    "                                           ]),\n",
    "    'dataset3' : transform.Compose([transform.Resize(255),\n",
    "                                            transform.CenterCrop(224),\n",
    "                                            transform.RandomHorizontalFlip(p=0.5),\n",
    "                                            transform.RandomRotation(15),\n",
    "                                            transform.RandomGrayscale(p=1),\n",
    "                                            transform.RandomAffine(translate=(0.08,0.1), degrees=15),\n",
    "                                            transform.ToTensor()\n",
    "                                           ]),\n",
    "}"
   ]
  },
  {
   "cell_type": "code",
   "execution_count": 4,
   "metadata": {},
   "outputs": [
    {
     "data": {
      "text/plain": [
       "7750"
      ]
     },
     "execution_count": 4,
     "metadata": {},
     "output_type": "execute_result"
    }
   ],
   "source": [
    "dataset1 = ImageFolder(path+'/train', \n",
    "                      transform=transformer['dataset1'])\n",
    "\n",
    "dataset2 = ImageFolder(path+'/train', \n",
    "                      transform=transformer['dataset2'])\n",
    "\n",
    "dataset3 = ImageFolder(path+'/train', \n",
    "                      transform=transformer['dataset3'])\n",
    "\n",
    "norm1, _ = train_test_split(dataset2, test_size= 3875/(1341+3875), shuffle=False)\n",
    "norm2, _ = train_test_split(dataset3, test_size= 4023/(1341+3875), shuffle=False)\n",
    "\n",
    "dataset = ConcatDataset([dataset1, norm1, norm2])\n",
    "\n",
    "len(dataset)"
   ]
  },
  {
   "cell_type": "code",
   "execution_count": 5,
   "metadata": {},
   "outputs": [
    {
     "name": "stdout",
     "output_type": "stream",
     "text": [
      "['NORMAL', 'PNEUMONIA']\n"
     ]
    }
   ],
   "source": [
    "print(dataset1.classes)\n",
    "# Function for plotting samples\n",
    "def plot_samples(samples):  \n",
    "    fig, ax = plt.subplots(nrows=2, ncols=5, figsize=(30,8))\n",
    "    for i in range(len(samples)):\n",
    "        image = cv2.cvtColor(imread(samples[i]), cv2.COLOR_BGR2RGB)\n",
    "        ax[i//5][i%5].imshow(image)\n",
    "        if i<5:\n",
    "            ax[i//5][i%5].set_title(\"Normal\", fontsize=20)\n",
    "        else:\n",
    "            ax[i//5][i%5].set_title(\"Pneumonia\", fontsize=20)\n",
    "        ax[i//5][i%5].axis('off')"
   ]
  },
  {
   "cell_type": "code",
   "execution_count": 6,
   "metadata": {},
   "outputs": [
    {
     "data": {
      "text/plain": [
       "<torch._C.Generator at 0x2c75d9aa090>"
      ]
     },
     "execution_count": 6,
     "metadata": {},
     "output_type": "execute_result"
    }
   ],
   "source": [
    "# set random seed so we get the same sampling every time for reproducibility\n",
    "\n",
    "random_seed = 2020\n",
    "torch.manual_seed(random_seed)"
   ]
  },
  {
   "cell_type": "code",
   "execution_count": 7,
   "metadata": {},
   "outputs": [],
   "source": [
    "train_ds, val_ds = train_test_split(dataset, test_size=0.3, random_state=random_seed)\n",
    "len(train_ds), len(val_ds)\n",
    "batch_size=32\n",
    "\n",
    "train_dl = DataLoader(train_ds, batch_size, shuffle=True, num_workers=4, pin_memory=True)\n",
    "val_dl = DataLoader(val_ds, batch_size*2, num_workers=4, pin_memory=True)\n",
    "loaders = {'train':train_dl, 'val':val_dl}\n",
    "dataset_sizes = {'train':len(train_ds), 'val':len(val_ds)}"
   ]
  },
  {
   "cell_type": "code",
   "execution_count": 24,
   "metadata": {},
   "outputs": [],
   "source": [
    "def accuracy(outputs, labels):\n",
    "    _, preds = torch.max(outputs, dim=1) \n",
    "    return torch.tensor(torch.sum(preds == labels).item() / len(preds)), preds\n",
    "def load_checkpoint(filepath):\n",
    "    checkpoint = torch.load(filepath)\n",
    "    model = checkpoint['model']\n",
    "    model.load_state_dict(checkpoint['state_dict'])\n",
    "    for parameter in model.parameters():\n",
    "        parameter.requires_grad = False\n",
    "\n",
    "    model.eval()\n",
    "    return model\n",
    "def validation_step(batch, model):\n",
    "        images,labels = batch\n",
    "        images,labels = images.to(device),labels.to(device)\n",
    "        out = model(images)                                      \n",
    "        loss = F.cross_entropy(out, labels)                    \n",
    "        acc,preds = accuracy(out, labels)                       \n",
    "        \n",
    "        return {'val_loss': loss.detach(), 'val_acc':acc.detach(), \n",
    "                'preds':preds.detach(), 'labels':labels.detach()}\n",
    "@torch.no_grad()\n",
    "def test_predict(model, test_loader):\n",
    "    model.eval()\n",
    "    # perform testing for each batch\n",
    "    outputs = [validation_step(batch,model) for batch in test_loader] \n",
    "    results = test_prediction(outputs)                          \n",
    "    print('test_loss: {:.4f}, test_acc: {:.4f}'\n",
    "          .format(results['test_loss'], results['test_acc']))\n",
    "    \n",
    "    return results['test_preds'], results['test_labels']"
   ]
  },
  {
   "cell_type": "code",
   "execution_count": 26,
   "metadata": {},
   "outputs": [
    {
     "name": "stdout",
     "output_type": "stream",
     "text": [
      "test_loss: 0.2474, test_acc: 0.9027\n"
     ]
    },
    {
     "ename": "IndexError",
     "evalue": "Dimension out of range (expected to be in range of [-1, 0], but got 1)",
     "output_type": "error",
     "traceback": [
      "\u001b[1;31m---------------------------------------------------------------------------\u001b[0m",
      "\u001b[1;31mIndexError\u001b[0m                                Traceback (most recent call last)",
      "Cell \u001b[1;32mIn[26], line 10\u001b[0m\n\u001b[0;32m      8\u001b[0m test_dl \u001b[39m=\u001b[39m DataLoader(testset, batch_size\u001b[39m=\u001b[39m\u001b[39m256\u001b[39m)\n\u001b[0;32m      9\u001b[0m model2\u001b[39m.\u001b[39mto(device)\n\u001b[1;32m---> 10\u001b[0m preds,labels \u001b[39m=\u001b[39m test_predict(model2, test_dl)\n",
      "Cell \u001b[1;32mIn[25], line 12\u001b[0m, in \u001b[0;36mtest_predict\u001b[1;34m(model, test_loader)\u001b[0m\n\u001b[0;32m      8\u001b[0m \u001b[39mprint\u001b[39m(\u001b[39m'\u001b[39m\u001b[39mtest_loss: \u001b[39m\u001b[39m{:.4f}\u001b[39;00m\u001b[39m, test_acc: \u001b[39m\u001b[39m{:.4f}\u001b[39;00m\u001b[39m'\u001b[39m\n\u001b[0;32m      9\u001b[0m       \u001b[39m.\u001b[39mformat(results[\u001b[39m'\u001b[39m\u001b[39mtest_loss\u001b[39m\u001b[39m'\u001b[39m], results[\u001b[39m'\u001b[39m\u001b[39mtest_acc\u001b[39m\u001b[39m'\u001b[39m]))\n\u001b[0;32m     11\u001b[0m \u001b[39m# Extracting the softmax probabilities for positive class \u001b[39;00m\n\u001b[1;32m---> 12\u001b[0m softmax_probs \u001b[39m=\u001b[39m [F\u001b[39m.\u001b[39;49msoftmax(x[\u001b[39m'\u001b[39;49m\u001b[39mpreds\u001b[39;49m\u001b[39m'\u001b[39;49m], dim\u001b[39m=\u001b[39;49m\u001b[39m1\u001b[39;49m)[:, \u001b[39m1\u001b[39;49m]\u001b[39m.\u001b[39;49mtolist() \u001b[39mfor\u001b[39;49;00m x \u001b[39min\u001b[39;49;00m outputs]\n\u001b[0;32m     13\u001b[0m probs \u001b[39m=\u001b[39m [prob \u001b[39mfor\u001b[39;00m sublist \u001b[39min\u001b[39;00m softmax_probs \u001b[39mfor\u001b[39;00m prob \u001b[39min\u001b[39;00m sublist]\n\u001b[0;32m     15\u001b[0m labels \u001b[39m=\u001b[39m results[\u001b[39m'\u001b[39m\u001b[39mtest_labels\u001b[39m\u001b[39m'\u001b[39m]\n",
      "Cell \u001b[1;32mIn[25], line 12\u001b[0m, in \u001b[0;36m<listcomp>\u001b[1;34m(.0)\u001b[0m\n\u001b[0;32m      8\u001b[0m \u001b[39mprint\u001b[39m(\u001b[39m'\u001b[39m\u001b[39mtest_loss: \u001b[39m\u001b[39m{:.4f}\u001b[39;00m\u001b[39m, test_acc: \u001b[39m\u001b[39m{:.4f}\u001b[39;00m\u001b[39m'\u001b[39m\n\u001b[0;32m      9\u001b[0m       \u001b[39m.\u001b[39mformat(results[\u001b[39m'\u001b[39m\u001b[39mtest_loss\u001b[39m\u001b[39m'\u001b[39m], results[\u001b[39m'\u001b[39m\u001b[39mtest_acc\u001b[39m\u001b[39m'\u001b[39m]))\n\u001b[0;32m     11\u001b[0m \u001b[39m# Extracting the softmax probabilities for positive class \u001b[39;00m\n\u001b[1;32m---> 12\u001b[0m softmax_probs \u001b[39m=\u001b[39m [F\u001b[39m.\u001b[39;49msoftmax(x[\u001b[39m'\u001b[39;49m\u001b[39mpreds\u001b[39;49m\u001b[39m'\u001b[39;49m], dim\u001b[39m=\u001b[39;49m\u001b[39m1\u001b[39;49m)[:, \u001b[39m1\u001b[39m]\u001b[39m.\u001b[39mtolist() \u001b[39mfor\u001b[39;00m x \u001b[39min\u001b[39;00m outputs]\n\u001b[0;32m     13\u001b[0m probs \u001b[39m=\u001b[39m [prob \u001b[39mfor\u001b[39;00m sublist \u001b[39min\u001b[39;00m softmax_probs \u001b[39mfor\u001b[39;00m prob \u001b[39min\u001b[39;00m sublist]\n\u001b[0;32m     15\u001b[0m labels \u001b[39m=\u001b[39m results[\u001b[39m'\u001b[39m\u001b[39mtest_labels\u001b[39m\u001b[39m'\u001b[39m]\n",
      "File \u001b[1;32mc:\\Users\\moheb\\AppData\\Local\\Programs\\Python\\Python311\\Lib\\site-packages\\torch\\nn\\functional.py:1843\u001b[0m, in \u001b[0;36msoftmax\u001b[1;34m(input, dim, _stacklevel, dtype)\u001b[0m\n\u001b[0;32m   1841\u001b[0m     dim \u001b[39m=\u001b[39m _get_softmax_dim(\u001b[39m\"\u001b[39m\u001b[39msoftmax\u001b[39m\u001b[39m\"\u001b[39m, \u001b[39minput\u001b[39m\u001b[39m.\u001b[39mdim(), _stacklevel)\n\u001b[0;32m   1842\u001b[0m \u001b[39mif\u001b[39;00m dtype \u001b[39mis\u001b[39;00m \u001b[39mNone\u001b[39;00m:\n\u001b[1;32m-> 1843\u001b[0m     ret \u001b[39m=\u001b[39m \u001b[39minput\u001b[39;49m\u001b[39m.\u001b[39;49msoftmax(dim)\n\u001b[0;32m   1844\u001b[0m \u001b[39melse\u001b[39;00m:\n\u001b[0;32m   1845\u001b[0m     ret \u001b[39m=\u001b[39m \u001b[39minput\u001b[39m\u001b[39m.\u001b[39msoftmax(dim, dtype\u001b[39m=\u001b[39mdtype)\n",
      "\u001b[1;31mIndexError\u001b[0m: Dimension out of range (expected to be in range of [-1, 0], but got 1)"
     ]
    }
   ],
   "source": [
    "model2 = load_checkpoint('./PneumoniaDensnet_partialFineTune.pth')\n",
    "model2.to(device)\n",
    "testset = ImageFolder(path+'/test', \n",
    "                    transform=transform.Compose([transform.Resize(255),\n",
    "                    transform.CenterCrop(224),                                                              \n",
    "                    transform.ToTensor(),]))\n",
    "\n",
    "test_dl = DataLoader(testset, batch_size=256)\n",
    "model2.to(device)\n",
    "preds,labels = test_predict(model2, test_dl)"
   ]
  },
  {
   "cell_type": "code",
   "execution_count": null,
   "metadata": {},
   "outputs": [
    {
     "name": "stdout",
     "output_type": "stream",
     "text": [
      "[[188  46]\n",
      " [ 21 369]]\n"
     ]
    }
   ],
   "source": [
    "cm  = confusion_matrix(labels, preds)\n",
    "\n",
    "print(cm)\n",
    "# plt.figure()\n",
    "# plot_confusion_matrix(cm,figsize=(12,8),cmap=plt.cm.Blues)\n",
    "# plt.xticks(range(2), ['Normal', 'Pneumonia'], fontsize=16)\n",
    "# plt.yticks(range(2), ['Normal', 'Pneumonia'], fontsize=16)\n",
    "# plt.xlabel('Predicted Label',fontsize=18)\n",
    "# plt.ylabel('True Label',fontsize=18)\n",
    "# plt.show()"
   ]
  },
  {
   "cell_type": "code",
   "execution_count": null,
   "metadata": {},
   "outputs": [
    {
     "name": "stdout",
     "output_type": "stream",
     "text": [
      "Accuracy of the model is 0.89\n",
      "Recall of the model is 0.95\n",
      "Precision of the model is 0.89\n",
      "F1 Score of the model is 0.92\n"
     ]
    }
   ],
   "source": [
    "tn, fp, fn, tp = cm.ravel()\n",
    "\n",
    "accuracy = (np.array(preds) == np.array(labels)).sum() / len(preds)\n",
    "precision = tp/(tp+fp)\n",
    "recall = tp/(tp+fn)\n",
    "f1 = 2*((precision*recall)/(precision+recall))\n",
    "\n",
    "print(\"Accuracy of the model is {:.2f}\".format(accuracy))\n",
    "print(\"Recall of the model is {:.2f}\".format(recall))\n",
    "print(\"Precision of the model is {:.2f}\".format(precision))\n",
    "print(\"F1 Score of the model is {:.2f}\".format(f1))"
   ]
  },
  {
   "cell_type": "code",
   "execution_count": null,
   "metadata": {},
   "outputs": [],
   "source": [
    "def compute_accuracy(predictions, labels):\n",
    "    _, preds = torch.max(predictions, 1)\n",
    "    corrects = (preds == labels).float()\n",
    "    accuracy = corrects.sum() / len(labels)\n",
    "    return accuracy, preds\n"
   ]
  },
  {
   "cell_type": "code",
   "execution_count": 25,
   "metadata": {},
   "outputs": [
    {
     "name": "stdout",
     "output_type": "stream",
     "text": [
      "test_loss: 0.2458, test_acc: 0.9044\n"
     ]
    },
    {
     "ename": "IndexError",
     "evalue": "Dimension out of range (expected to be in range of [-1, 0], but got 1)",
     "output_type": "error",
     "traceback": [
      "\u001b[1;31m---------------------------------------------------------------------------\u001b[0m",
      "\u001b[1;31mIndexError\u001b[0m                                Traceback (most recent call last)",
      "Cell \u001b[1;32mIn[25], line 25\u001b[0m\n\u001b[0;32m     21\u001b[0m     \u001b[39mprint\u001b[39m(\u001b[39m'\u001b[39m\u001b[39mAUPRC: \u001b[39m\u001b[39m{:.4f}\u001b[39;00m\u001b[39m'\u001b[39m\u001b[39m.\u001b[39mformat(auprc))\n\u001b[0;32m     23\u001b[0m     \u001b[39mreturn\u001b[39;00m results[\u001b[39m'\u001b[39m\u001b[39mtest_preds\u001b[39m\u001b[39m'\u001b[39m], results[\u001b[39m'\u001b[39m\u001b[39mtest_labels\u001b[39m\u001b[39m'\u001b[39m]\n\u001b[1;32m---> 25\u001b[0m test_predict(model2, test_dl)\n",
      "Cell \u001b[1;32mIn[25], line 12\u001b[0m, in \u001b[0;36mtest_predict\u001b[1;34m(model, test_loader)\u001b[0m\n\u001b[0;32m      8\u001b[0m \u001b[39mprint\u001b[39m(\u001b[39m'\u001b[39m\u001b[39mtest_loss: \u001b[39m\u001b[39m{:.4f}\u001b[39;00m\u001b[39m, test_acc: \u001b[39m\u001b[39m{:.4f}\u001b[39;00m\u001b[39m'\u001b[39m\n\u001b[0;32m      9\u001b[0m       \u001b[39m.\u001b[39mformat(results[\u001b[39m'\u001b[39m\u001b[39mtest_loss\u001b[39m\u001b[39m'\u001b[39m], results[\u001b[39m'\u001b[39m\u001b[39mtest_acc\u001b[39m\u001b[39m'\u001b[39m]))\n\u001b[0;32m     11\u001b[0m \u001b[39m# Extracting the softmax probabilities for positive class \u001b[39;00m\n\u001b[1;32m---> 12\u001b[0m softmax_probs \u001b[39m=\u001b[39m [F\u001b[39m.\u001b[39;49msoftmax(x[\u001b[39m'\u001b[39;49m\u001b[39mpreds\u001b[39;49m\u001b[39m'\u001b[39;49m], dim\u001b[39m=\u001b[39;49m\u001b[39m1\u001b[39;49m)[:, \u001b[39m1\u001b[39;49m]\u001b[39m.\u001b[39;49mtolist() \u001b[39mfor\u001b[39;49;00m x \u001b[39min\u001b[39;49;00m outputs]\n\u001b[0;32m     13\u001b[0m probs \u001b[39m=\u001b[39m [prob \u001b[39mfor\u001b[39;00m sublist \u001b[39min\u001b[39;00m softmax_probs \u001b[39mfor\u001b[39;00m prob \u001b[39min\u001b[39;00m sublist]\n\u001b[0;32m     15\u001b[0m labels \u001b[39m=\u001b[39m results[\u001b[39m'\u001b[39m\u001b[39mtest_labels\u001b[39m\u001b[39m'\u001b[39m]\n",
      "Cell \u001b[1;32mIn[25], line 12\u001b[0m, in \u001b[0;36m<listcomp>\u001b[1;34m(.0)\u001b[0m\n\u001b[0;32m      8\u001b[0m \u001b[39mprint\u001b[39m(\u001b[39m'\u001b[39m\u001b[39mtest_loss: \u001b[39m\u001b[39m{:.4f}\u001b[39;00m\u001b[39m, test_acc: \u001b[39m\u001b[39m{:.4f}\u001b[39;00m\u001b[39m'\u001b[39m\n\u001b[0;32m      9\u001b[0m       \u001b[39m.\u001b[39mformat(results[\u001b[39m'\u001b[39m\u001b[39mtest_loss\u001b[39m\u001b[39m'\u001b[39m], results[\u001b[39m'\u001b[39m\u001b[39mtest_acc\u001b[39m\u001b[39m'\u001b[39m]))\n\u001b[0;32m     11\u001b[0m \u001b[39m# Extracting the softmax probabilities for positive class \u001b[39;00m\n\u001b[1;32m---> 12\u001b[0m softmax_probs \u001b[39m=\u001b[39m [F\u001b[39m.\u001b[39;49msoftmax(x[\u001b[39m'\u001b[39;49m\u001b[39mpreds\u001b[39;49m\u001b[39m'\u001b[39;49m], dim\u001b[39m=\u001b[39;49m\u001b[39m1\u001b[39;49m)[:, \u001b[39m1\u001b[39m]\u001b[39m.\u001b[39mtolist() \u001b[39mfor\u001b[39;00m x \u001b[39min\u001b[39;00m outputs]\n\u001b[0;32m     13\u001b[0m probs \u001b[39m=\u001b[39m [prob \u001b[39mfor\u001b[39;00m sublist \u001b[39min\u001b[39;00m softmax_probs \u001b[39mfor\u001b[39;00m prob \u001b[39min\u001b[39;00m sublist]\n\u001b[0;32m     15\u001b[0m labels \u001b[39m=\u001b[39m results[\u001b[39m'\u001b[39m\u001b[39mtest_labels\u001b[39m\u001b[39m'\u001b[39m]\n",
      "File \u001b[1;32mc:\\Users\\moheb\\AppData\\Local\\Programs\\Python\\Python311\\Lib\\site-packages\\torch\\nn\\functional.py:1843\u001b[0m, in \u001b[0;36msoftmax\u001b[1;34m(input, dim, _stacklevel, dtype)\u001b[0m\n\u001b[0;32m   1841\u001b[0m     dim \u001b[39m=\u001b[39m _get_softmax_dim(\u001b[39m\"\u001b[39m\u001b[39msoftmax\u001b[39m\u001b[39m\"\u001b[39m, \u001b[39minput\u001b[39m\u001b[39m.\u001b[39mdim(), _stacklevel)\n\u001b[0;32m   1842\u001b[0m \u001b[39mif\u001b[39;00m dtype \u001b[39mis\u001b[39;00m \u001b[39mNone\u001b[39;00m:\n\u001b[1;32m-> 1843\u001b[0m     ret \u001b[39m=\u001b[39m \u001b[39minput\u001b[39;49m\u001b[39m.\u001b[39;49msoftmax(dim)\n\u001b[0;32m   1844\u001b[0m \u001b[39melse\u001b[39;00m:\n\u001b[0;32m   1845\u001b[0m     ret \u001b[39m=\u001b[39m \u001b[39minput\u001b[39m\u001b[39m.\u001b[39msoftmax(dim, dtype\u001b[39m=\u001b[39mdtype)\n",
      "\u001b[1;31mIndexError\u001b[0m: Dimension out of range (expected to be in range of [-1, 0], but got 1)"
     ]
    }
   ],
   "source": [
    "\n",
    "from sklearn.metrics import roc_auc_score, average_precision_score\n",
    "\n",
    "def test_predict(model, test_loader):\n",
    "    model.eval()\n",
    "    # perform testing for each batch\n",
    "    outputs = [validation_step(batch, model) for batch in test_loader] \n",
    "    results = test_prediction(outputs)                          \n",
    "    print('test_loss: {:.4f}, test_acc: {:.4f}'\n",
    "          .format(results['test_loss'], results['test_acc']))\n",
    "    \n",
    "    # Extracting the softmax probabilities for positive class \n",
    "    softmax_probs = [F.softmax(x['preds'], dim=1)[:, 1].tolist() for x in outputs]\n",
    "    probs = [prob for sublist in softmax_probs for prob in sublist]\n",
    "    \n",
    "    labels = results['test_labels']\n",
    "    \n",
    "    auroc = roc_auc_score(labels, probs)\n",
    "    auprc = average_precision_score(labels, probs)\n",
    "    \n",
    "    print('AUROC: {:.4f}'.format(auroc))\n",
    "    print('AUPRC: {:.4f}'.format(auprc))\n",
    "    \n",
    "    return results['test_preds'], results['test_labels']\n",
    "\n",
    "test_predict(model2, test_dl)\n"
   ]
  },
  {
   "cell_type": "code",
   "execution_count": null,
   "metadata": {},
   "outputs": [],
   "source": []
  }
 ],
 "metadata": {
  "kernelspec": {
   "display_name": "Python 3",
   "language": "python",
   "name": "python3"
  },
  "language_info": {
   "codemirror_mode": {
    "name": "ipython",
    "version": 3
   },
   "file_extension": ".py",
   "mimetype": "text/x-python",
   "name": "python",
   "nbconvert_exporter": "python",
   "pygments_lexer": "ipython3",
   "version": "3.11.3"
  },
  "orig_nbformat": 4
 },
 "nbformat": 4,
 "nbformat_minor": 2
}
