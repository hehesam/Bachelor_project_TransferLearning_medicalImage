{
 "cells": [
  {
   "cell_type": "markdown",
   "metadata": {},
   "source": [
    "## folder 1"
   ]
  },
  {
   "cell_type": "code",
   "execution_count": 2,
   "metadata": {},
   "outputs": [
    {
     "name": "stdout",
     "output_type": "stream",
     "text": [
      "82422\n"
     ]
    }
   ],
   "source": [
    "import os\n",
    "import pandas as pd\n",
    "\n",
    "def process_images(input_dir, Labels):\n",
    "    new_labels_list = []\n",
    "\n",
    "    # Get a list of all image filenames in the input directory\n",
    "    image_filenames = os.listdir(input_dir)\n",
    "    count = 0\n",
    "    # Process each image\n",
    "    for filename in image_filenames:\n",
    "        # Ignore non-image files\n",
    "        if not (filename.endswith(\".png\") or filename.endswith(\".jpg\")):\n",
    "            continue\n",
    "\n",
    "        id = filename.split('.')[0]\n",
    "        \n",
    "        # Fetch the 'any' value from the Labels dataframe for this ID\n",
    "        label_value = Labels[Labels['Image'] == id]['any'].values[0]\n",
    "        \n",
    "        new_labels_list.append({'Image': id, 'any': label_value})\n",
    "\n",
    "\n",
    "        count += 1\n",
    "\n",
    "\n",
    "    # Convert the list to a DataFrame\n",
    "    new_label_df = pd.DataFrame(new_labels_list)\n",
    "\n",
    "    print(count)\n",
    "    return new_label_df\n",
    "\n",
    "# Load the Labels dataframe\n",
    "Labels = pd.read_csv('labels/RSNA_labels.csv')\n",
    "\n",
    "# Process the images in the 'RSNA_Processed' folder\n",
    "new_label = process_images(\"RSNA/folder_1/\", Labels)\n",
    "\n",
    "new_label.to_csv('RSNA/labels_1.csv')\n"
   ]
  },
  {
   "cell_type": "markdown",
   "metadata": {},
   "source": [
    "## Folder 2"
   ]
  },
  {
   "cell_type": "code",
   "execution_count": 3,
   "metadata": {},
   "outputs": [
    {
     "name": "stdout",
     "output_type": "stream",
     "text": [
      "82422\n"
     ]
    }
   ],
   "source": [
    "import os\n",
    "import pandas as pd\n",
    "\n",
    "def process_images(input_dir, Labels):\n",
    "    new_labels_list = []\n",
    "\n",
    "    # Get a list of all image filenames in the input directory\n",
    "    image_filenames = os.listdir(input_dir)\n",
    "    count = 0\n",
    "    # Process each image\n",
    "    for filename in image_filenames:\n",
    "        # Ignore non-image files\n",
    "        if not (filename.endswith(\".png\") or filename.endswith(\".jpg\")):\n",
    "            continue\n",
    "\n",
    "        id = filename.split('.')[0]\n",
    "        \n",
    "        # Fetch the 'any' value from the Labels dataframe for this ID\n",
    "        label_value = Labels[Labels['Image'] == id]['any'].values[0]\n",
    "        \n",
    "        new_labels_list.append({'Image': id, 'any': label_value})\n",
    "\n",
    "\n",
    "        count += 1\n",
    "\n",
    "\n",
    "    # Convert the list to a DataFrame\n",
    "    new_label_df = pd.DataFrame(new_labels_list)\n",
    "\n",
    "    print(count)\n",
    "    return new_label_df\n",
    "\n",
    "# Load the Labels dataframe\n",
    "Labels = pd.read_csv('labels/RSNA_labels.csv')\n",
    "\n",
    "# Process the images in the 'RSNA_Processed' folder\n",
    "new_label = process_images(\"RSNA/folder_2/\", Labels)\n",
    "\n",
    "new_label.to_csv('RSNA/labels_2.csv')\n"
   ]
  },
  {
   "cell_type": "markdown",
   "metadata": {},
   "source": [
    "## folder 3"
   ]
  },
  {
   "cell_type": "code",
   "execution_count": 4,
   "metadata": {},
   "outputs": [
    {
     "name": "stdout",
     "output_type": "stream",
     "text": [
      "82421\n"
     ]
    }
   ],
   "source": [
    "import os\n",
    "import pandas as pd\n",
    "\n",
    "def process_images(input_dir, Labels):\n",
    "    new_labels_list = []\n",
    "\n",
    "    # Get a list of all image filenames in the input directory\n",
    "    image_filenames = os.listdir(input_dir)\n",
    "    count = 0\n",
    "    # Process each image\n",
    "    for filename in image_filenames:\n",
    "        # Ignore non-image files\n",
    "        if not (filename.endswith(\".png\") or filename.endswith(\".jpg\")):\n",
    "            continue\n",
    "\n",
    "        id = filename.split('.')[0]\n",
    "        \n",
    "        # Fetch the 'any' value from the Labels dataframe for this ID\n",
    "        label_value = Labels[Labels['Image'] == id]['any'].values[0]\n",
    "        \n",
    "        new_labels_list.append({'Image': id, 'any': label_value})\n",
    "\n",
    "\n",
    "        count += 1\n",
    "\n",
    "\n",
    "    # Convert the list to a DataFrame\n",
    "    new_label_df = pd.DataFrame(new_labels_list)\n",
    "\n",
    "    print(count)\n",
    "    return new_label_df\n",
    "\n",
    "# Load the Labels dataframe\n",
    "Labels = pd.read_csv('labels/RSNA_labels.csv')\n",
    "\n",
    "# Process the images in the 'RSNA_Processed' folder\n",
    "new_label = process_images(\"RSNA/folder_3/\", Labels)\n",
    "\n",
    "new_label.to_csv('RSNA/labels_3.csv')\n"
   ]
  },
  {
   "cell_type": "markdown",
   "metadata": {},
   "source": [
    "## Folder 4"
   ]
  },
  {
   "cell_type": "code",
   "execution_count": null,
   "metadata": {},
   "outputs": [],
   "source": [
    "import os\n",
    "import pandas as pd\n",
    "\n",
    "def process_images(input_dir, Labels):\n",
    "    new_labels_list = []\n",
    "\n",
    "    # Get a list of all image filenames in the input directory\n",
    "    image_filenames = os.listdir(input_dir)\n",
    "    count = 0\n",
    "    # Process each image\n",
    "    for filename in image_filenames:\n",
    "        # Ignore non-image files\n",
    "        if not (filename.endswith(\".png\") or filename.endswith(\".jpg\")):\n",
    "            continue\n",
    "\n",
    "        id = filename.split('.')[0]\n",
    "        \n",
    "        # Fetch the 'any' value from the Labels dataframe for this ID\n",
    "        label_value = Labels[Labels['Image'] == id]['any'].values[0]\n",
    "        \n",
    "        new_labels_list.append({'Image': id, 'any': label_value})\n",
    "\n",
    "\n",
    "        count += 1\n",
    "\n",
    "\n",
    "    # Convert the list to a DataFrame\n",
    "    new_label_df = pd.DataFrame(new_labels_list)\n",
    "\n",
    "    print(count)\n",
    "    return new_label_df\n",
    "\n",
    "# Load the Labels dataframe\n",
    "Labels = pd.read_csv('labels/RSNA_labels.csv')\n",
    "\n",
    "# Process the images in the 'RSNA_Processed' folder\n",
    "new_label = process_images(\"RSNA/folder_4/\", Labels)\n",
    "\n",
    "new_label.to_csv('RSNA/labels_4.csv')\n"
   ]
  },
  {
   "cell_type": "markdown",
   "metadata": {},
   "source": [
    "## Folder 5"
   ]
  },
  {
   "cell_type": "code",
   "execution_count": null,
   "metadata": {},
   "outputs": [],
   "source": [
    "import os\n",
    "import pandas as pd\n",
    "\n",
    "def process_images(input_dir, Labels):\n",
    "    new_labels_list = []\n",
    "\n",
    "    # Get a list of all image filenames in the input directory\n",
    "    image_filenames = os.listdir(input_dir)\n",
    "    count = 0\n",
    "    # Process each image\n",
    "    for filename in image_filenames:\n",
    "        # Ignore non-image files\n",
    "        if not (filename.endswith(\".png\") or filename.endswith(\".jpg\")):\n",
    "            continue\n",
    "\n",
    "        id = filename.split('.')[0]\n",
    "        \n",
    "        # Fetch the 'any' value from the Labels dataframe for this ID\n",
    "        label_value = Labels[Labels['Image'] == id]['any'].values[0]\n",
    "        \n",
    "        new_labels_list.append({'Image': id, 'any': label_value})\n",
    "\n",
    "\n",
    "        count += 1\n",
    "\n",
    "\n",
    "    # Convert the list to a DataFrame\n",
    "    new_label_df = pd.DataFrame(new_labels_list)\n",
    "\n",
    "    print(count)\n",
    "    return new_label_df\n",
    "\n",
    "# Load the Labels dataframe\n",
    "Labels = pd.read_csv('labels/RSNA_labels.csv')\n",
    "\n",
    "# Process the images in the 'RSNA_Processed' folder\n",
    "new_label = process_images(\"RSNA/folder_5/\", Labels)\n",
    "\n",
    "new_label.to_csv('RSNA/labels_5.csv')\n"
   ]
  },
  {
   "cell_type": "code",
   "execution_count": null,
   "metadata": {},
   "outputs": [],
   "source": []
  }
 ],
 "metadata": {
  "kernelspec": {
   "display_name": "Python 3",
   "language": "python",
   "name": "python3"
  },
  "language_info": {
   "codemirror_mode": {
    "name": "ipython",
    "version": 3
   },
   "file_extension": ".py",
   "mimetype": "text/x-python",
   "name": "python",
   "nbconvert_exporter": "python",
   "pygments_lexer": "ipython3",
   "version": "3.11.3"
  },
  "orig_nbformat": 4
 },
 "nbformat": 4,
 "nbformat_minor": 2
}
